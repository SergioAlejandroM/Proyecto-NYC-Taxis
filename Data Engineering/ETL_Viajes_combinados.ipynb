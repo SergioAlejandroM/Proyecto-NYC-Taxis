{
 "cells": [
  {
   "cell_type": "code",
   "execution_count": 4,
   "metadata": {},
   "outputs": [
    {
     "name": "stdout",
     "output_type": "stream",
     "text": [
      "Todos los datasets combinados y guardados en la carpeta 'combined_files'\n"
     ]
    }
   ],
   "source": [
    "import pandas as pd\n",
    "import glob\n",
    "import re\n",
    "import os\n",
    "\n",
    "# Obtener una lista de todos los archivos que coinciden con el patrón\n",
    "files = glob.glob('path/to/your/directory/transformed_*_tripdata_*.csv')\n",
    "\n",
    "# Crear un diccionario para almacenar los DataFrames por año y mes\n",
    "dataframes = {}\n",
    "\n",
    "# Expresión regular para extraer año y mes del nombre del archivo\n",
    "pattern = re.compile(r'transformed_.*_tripdata_(\\d{4}-\\d{2})\\.csv')\n",
    "\n",
    "# Leer y almacenar los DataFrames en el diccionario\n",
    "for file in files:\n",
    "    match = pattern.search(file)\n",
    "    if match:\n",
    "        year_month = match.group(1)\n",
    "        df = pd.read_csv(file)\n",
    "        if year_month in dataframes:\n",
    "            dataframes[year_month].append(df)\n",
    "        else:\n",
    "            dataframes[year_month] = [df]\n",
    "\n",
    "# Crear un directorio para guardar los archivos combinados\n",
    "output_dir = 'combined_files'\n",
    "os.makedirs(output_dir, exist_ok=True)\n",
    "\n",
    "# Combinar y guardar los DataFrames por año y mes\n",
    "for year_month, dfs in dataframes.items():\n",
    "    combined_df = pd.concat(dfs, axis=0, ignore_index=True)\n",
    "    output_file = os.path.join(output_dir, f'dataset_combined_{year_month}.csv')\n",
    "    combined_df.to_parquet(output_file, index=False)\n",
    "\n",
    "print(f\"Todos los datasets combinados y guardados en la carpeta '{output_dir}'\")\n"
   ]
  }
 ],
 "metadata": {
  "kernelspec": {
   "display_name": "Python 3",
   "language": "python",
   "name": "python3"
  },
  "language_info": {
   "codemirror_mode": {
    "name": "ipython",
    "version": 3
   },
   "file_extension": ".py",
   "mimetype": "text/x-python",
   "name": "python",
   "nbconvert_exporter": "python",
   "pygments_lexer": "ipython3",
   "version": "3.12.2"
  }
 },
 "nbformat": 4,
 "nbformat_minor": 2
}
