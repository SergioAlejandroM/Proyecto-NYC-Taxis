{
 "cells": [
  {
   "cell_type": "code",
   "execution_count": 1,
   "metadata": {},
   "outputs": [],
   "source": [
    "import pandas as pd"
   ]
  },
  {
   "cell_type": "code",
   "execution_count": 2,
   "metadata": {},
   "outputs": [],
   "source": [
    "datos_green = pd.read_parquet('./Archivos faltantes/green_tripdata_2023-11.parquet')\n",
    "\n"
   ]
  },
  {
   "cell_type": "code",
   "execution_count": 3,
   "metadata": {},
   "outputs": [],
   "source": [
    "columns_to_keep = ['lpep_pickup_datetime', 'lpep_dropoff_datetime', 'trip_distance', 'fare_amount', 'PULocationID']"
   ]
  },
  {
   "cell_type": "code",
   "execution_count": 4,
   "metadata": {},
   "outputs": [],
   "source": [
    "datos_green = datos_green[columns_to_keep]"
   ]
  },
  {
   "cell_type": "code",
   "execution_count": 5,
   "metadata": {},
   "outputs": [],
   "source": [
    "datos_green['Es_verde'] = 1"
   ]
  },
  {
   "cell_type": "code",
   "execution_count": 6,
   "metadata": {},
   "outputs": [],
   "source": [
    "datos_green['Fecha'] = pd.to_datetime(datos_green['lpep_pickup_datetime']).dt.date\n",
    "datos_green['pickup_time'] = pd.to_datetime(datos_green['lpep_pickup_datetime']).dt.time\n",
    "datos_green['dropoff_time'] = pd.to_datetime(datos_green['lpep_dropoff_datetime']).dt.time\n",
    "datos_green.drop(columns=['lpep_pickup_datetime', 'lpep_dropoff_datetime'], inplace=True)"
   ]
  },
  {
   "cell_type": "code",
   "execution_count": 7,
   "metadata": {},
   "outputs": [],
   "source": [
    "datos_green['Fecha'] = pd.to_datetime(datos_green['Fecha'])"
   ]
  },
  {
   "cell_type": "code",
   "execution_count": 8,
   "metadata": {},
   "outputs": [],
   "source": [
    "datos_green = datos_green[~(datos_green['Fecha'].dt.month == 10)]"
   ]
  },
  {
   "cell_type": "code",
   "execution_count": 9,
   "metadata": {},
   "outputs": [],
   "source": [
    "datos_green = datos_green[(datos_green['PULocationID'] != 1) & (datos_green['PULocationID'] != 264) & (datos_green['PULocationID'] != 265)]"
   ]
  },
  {
   "cell_type": "code",
   "execution_count": 10,
   "metadata": {},
   "outputs": [],
   "source": [
    "datos_green.to_csv('./transformed_files/transformed_green_tripdata_2023-11.csv', index= False)"
   ]
  },
  {
   "cell_type": "code",
   "execution_count": 11,
   "metadata": {},
   "outputs": [],
   "source": [
    "datos_yellow = pd.read_parquet('./Archivos faltantes/yellow_tripdata_2023-11.parquet')"
   ]
  },
  {
   "cell_type": "code",
   "execution_count": 12,
   "metadata": {},
   "outputs": [],
   "source": [
    "columns_to_keep_yellow = ['tpep_pickup_datetime', 'tpep_dropoff_datetime', 'trip_distance', 'fare_amount', 'PULocationID']"
   ]
  },
  {
   "cell_type": "code",
   "execution_count": 13,
   "metadata": {},
   "outputs": [],
   "source": [
    "datos_yellow = datos_yellow[columns_to_keep_yellow]"
   ]
  },
  {
   "cell_type": "code",
   "execution_count": 14,
   "metadata": {},
   "outputs": [],
   "source": [
    "datos_yellow['Es_verde'] = 0"
   ]
  },
  {
   "cell_type": "code",
   "execution_count": 15,
   "metadata": {},
   "outputs": [],
   "source": [
    "datos_yellow['Fecha'] = pd.to_datetime(datos_yellow['tpep_pickup_datetime']).dt.date\n",
    "datos_yellow['pickup_time'] = pd.to_datetime(datos_yellow['tpep_pickup_datetime']).dt.time\n",
    "datos_yellow['dropoff_time'] = pd.to_datetime(datos_yellow['tpep_dropoff_datetime']).dt.time\n",
    "datos_yellow.drop(columns=['tpep_pickup_datetime', 'tpep_dropoff_datetime'], inplace=True)"
   ]
  },
  {
   "cell_type": "code",
   "execution_count": 16,
   "metadata": {},
   "outputs": [],
   "source": [
    "datos_yellow['Fecha'] = pd.to_datetime(datos_yellow['Fecha'])"
   ]
  },
  {
   "cell_type": "code",
   "execution_count": 17,
   "metadata": {},
   "outputs": [],
   "source": [
    "datos_yellow = datos_yellow[~datos_yellow['Fecha'].dt.month.isin([10, 12])  & (datos_yellow['Fecha'].dt.year != 2009)]"
   ]
  },
  {
   "cell_type": "code",
   "execution_count": 18,
   "metadata": {},
   "outputs": [],
   "source": [
    "datos_yellow = datos_yellow[(datos_yellow['PULocationID'] != 1) & (datos_yellow['PULocationID'] != 264) & (datos_yellow['PULocationID'] != 265)]"
   ]
  },
  {
   "cell_type": "code",
   "execution_count": 19,
   "metadata": {},
   "outputs": [],
   "source": [
    "datos_yellow.to_csv('./transformed_files/transformed_yellow_tripdata_2023-11.csv', index= False)"
   ]
  }
 ],
 "metadata": {
  "kernelspec": {
   "display_name": "Python 3",
   "language": "python",
   "name": "python3"
  },
  "language_info": {
   "codemirror_mode": {
    "name": "ipython",
    "version": 3
   },
   "file_extension": ".py",
   "mimetype": "text/x-python",
   "name": "python",
   "nbconvert_exporter": "python",
   "pygments_lexer": "ipython3",
   "version": "3.12.2"
  }
 },
 "nbformat": 4,
 "nbformat_minor": 2
}
